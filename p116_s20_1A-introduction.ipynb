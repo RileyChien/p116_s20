{
 "cells": [
  {
   "cell_type": "markdown",
   "metadata": {},
   "source": [
    "## This notebook is meant to introduce the basic functionality of python packages that will be used throughout the course\n",
    "\n",
    "### Qiskit\n",
    "#### A quantum computing package that will be used in the quantum algorithm sections. It has modules for Grover's seach and Shor's factoring algorithms as well as tools that will be helpful for quantum simulation and measurement schemes. This will be the package used to run algorithms on simulators as well as real quantum computers through the cloud\n",
    "\n",
    "https://qiskit.org/documentation/\n",
    "\n",
    "https://github.com/Qiskit\n",
    "\n",
    "### Quimb\n",
    "#### A tensor network package that will be used in the entanglement sections. It has general quantum information tools in the tensor network language such as partial traces and measures of entanglement. There are also numerical tools for matrix product states, other tensor network ansatz such as MERA, and quantum circuit optimization.\n",
    "\n",
    "https://quimb.readthedocs.io/en/latest/index.html\n",
    "\n",
    "https://github.com/jcmgray/quimb\n",
    "\n",
    "### Other packages that will be used\n",
    "#### numpy: standard linear algebra package for python, necessary for most other things - basic objects are multidimensional arrays\n",
    "#### matplotlib: standard data visualization for python"
   ]
  },
  {
   "cell_type": "markdown",
   "metadata": {},
   "source": [
    "## Qiskit\n",
    "\n",
    "### Basic objects\n",
    "#### QuantumCircuits\n",
    "An object that holds a number of qubits and instructions for what gates to apply to them. It also holds classical bits to record the outcomes of qubit measurements.\n",
    "\n",
    "#### Backends\n",
    "These are the backends to run your circuits on. Usually you'll run on a simulator but also lets you run on a real device if you generate credentials by making an account here: https://quantum-computing.ibm.com/"
   ]
  },
  {
   "cell_type": "code",
   "execution_count": null,
   "metadata": {},
   "outputs": [],
   "source": [
    "# Imports\n",
    "from qiskit import QuantumCircuit, execute, Aer\n",
    "from qiskit.visualization import plot_histogram"
   ]
  },
  {
   "cell_type": "markdown",
   "metadata": {},
   "source": [
    "### Here we'll see the see the circuit to create and measure a Bell pair"
   ]
  },
  {
   "cell_type": "code",
   "execution_count": null,
   "metadata": {},
   "outputs": [],
   "source": [
    "# Use Aer's qasm_simulator\n",
    "simulator = Aer.get_backend('qasm_simulator')\n",
    "\n",
    "# Create a Quantum Circuit acting on the q register with 2 qubits and 2 classical bits\n",
    "circuit = QuantumCircuit(2, 2)\n",
    "\n",
    "# Add a H gate on qubit 0\n",
    "circuit.h(0)\n",
    "\n",
    "# Add a CX (CNOT) gate on control qubit 0 and target qubit 1\n",
    "circuit.cx(0, 1)\n",
    "\n",
    "# Other gates you can apply - Note the 1 & 2 qubit gates are universal \n",
    "# meaning that any unitary can be expressed as a product of them\n",
    "#circuit.x(0) # apply Pauli X to qubit 0\n",
    "#circuit.rx(0.1,1) # apply a X rotation by angle 0.1 to qubit 1\n",
    "#circuit.t(0) # apply a T gate to qubit 0\n",
    "\n",
    "\n",
    "# Map the quantum measurement to the classical bits\n",
    "circuit.measure([0,1], [0,1])\n",
    "\n",
    "# Execute the circuit on the qasm simulator\n",
    "job = execute(circuit, simulator, shots=1000)\n",
    "\n",
    "# Grab results from the job\n",
    "result = job.result()\n",
    "\n",
    "# Returns counts\n",
    "counts = result.get_counts(circuit)\n",
    "print(\"\\nTotal count for 00 and 11 are:\",counts)\n",
    "\n",
    "# Draw the circuit\n",
    "circuit.draw()"
   ]
  },
  {
   "cell_type": "markdown",
   "metadata": {},
   "source": [
    "## Quimb\n",
    "\n",
    "### Basic objects\n",
    "\n",
    "### Tensor\n",
    "A Multidimensional array with labeled indices that can be contracted with indices from other tensors - the Legos of quantum objects\n",
    "\n",
    "### TensorNetwork\n",
    "A collection of Tensors to be contracted or further manipulated"
   ]
  },
  {
   "cell_type": "code",
   "execution_count": null,
   "metadata": {},
   "outputs": [],
   "source": [
    "#imports\n",
    "import quimb as qu\n",
    "import quimb.tensor as qtn"
   ]
  },
  {
   "cell_type": "markdown",
   "metadata": {},
   "source": [
    "### Here we'll create a tensor network corresponding to an inner product Bell pairs with Paulis applied and a random 2-qubit state"
   ]
  },
  {
   "cell_type": "code",
   "execution_count": null,
   "metadata": {},
   "outputs": [],
   "source": [
    "data = qu.bell_state('phi+').reshape(2, 2) # data array used to create the tensor made form a built in bell state\n",
    "inds = ('k0', 'k1') # named indices are used to keep track of which legs are connected to what\n",
    "tags = {'KET'} # tags are handles\n",
    "\n",
    "ket = qtn.Tensor(data, inds, tags) \n",
    "ket.graph(color=['KET'], figsize=(4, 4))"
   ]
  },
  {
   "cell_type": "code",
   "execution_count": null,
   "metadata": {},
   "outputs": [],
   "source": [
    "# Create Paulis and specify where they are being applied through the use of the named indices 'k0' and 'k1' on 'KET'\n",
    "X = qtn.Tensor(qu.pauli('X'), inds=('k0', 'b0'), tags={'PAULI', 'X', '0'})\n",
    "Y = qtn.Tensor(qu.pauli('Y'), inds=('k1', 'b1'), tags={'PAULI', 'Y', '1'})\n",
    "\n",
    "# Create a Bra \n",
    "bra = qtn.Tensor(qu.rand_ket(4).reshape(2, 2), inds=('b0', 'b1'), tags={'BRA'})\n",
    "\n",
    "# Create the TensorNetwork by connecting the tensors together with the & sign. Legs are matched up by index name by\n",
    "TN = ket.H & X & Y & bra\n",
    "TN.graph(color=['KET', 'PAULI', 'BRA'], figsize=(4, 4))\n",
    "print(f'={TN^all}') # ^ contracts the desired indices in this case all"
   ]
  },
  {
   "cell_type": "markdown",
   "metadata": {},
   "source": [
    "### Other packages that may interest you\n",
    "#### QuTip: General purpose quantum mechanics package, has various tools for perturbation theory, optimal control, open systems\n",
    "#### OpenFermion: Alternative software to map from fermionic systems to qubits"
   ]
  }
 ],
 "metadata": {
  "kernelspec": {
   "display_name": "py36",
   "language": "python",
   "name": "py36"
  },
  "language_info": {
   "codemirror_mode": {
    "name": "ipython",
    "version": 3
   },
   "file_extension": ".py",
   "mimetype": "text/x-python",
   "name": "python",
   "nbconvert_exporter": "python",
   "pygments_lexer": "ipython3",
   "version": "3.6.9"
  }
 },
 "nbformat": 4,
 "nbformat_minor": 2
}

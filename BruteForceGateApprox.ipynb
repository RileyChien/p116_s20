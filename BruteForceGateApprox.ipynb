{
 "cells": [
  {
   "cell_type": "code",
   "execution_count": 1,
   "metadata": {},
   "outputs": [],
   "source": [
    "import numpy as np\n",
    "import numpy.linalg as la\n",
    "from scipy.linalg import expm\n",
    "from cmath import exp, pi\n",
    "import itertools"
   ]
  },
  {
   "cell_type": "code",
   "execution_count": 2,
   "metadata": {},
   "outputs": [],
   "source": [
    "# Clifford gates\n",
    "S = np.asarray([[1,0],[0,exp(1j*pi/2)]],dtype=complex)\n",
    "H= (2)**(-1/2)*np.array([[1,1],[1,-1]],dtype = complex)\n",
    "T = np.array([[1,0],[0,exp(1j*pi/4)]],dtype = complex)\n",
    "I = np.array([[1,0],[0,1]],dtype = complex)\n",
    "\n",
    "# Generators\n",
    "X= np.array([[0,1],[1,0]])\n",
    "Y= 1j*np.array([[0,-1],[1,0]])\n",
    "Z= np.array([[1,0],[0,-1]])\n",
    "# Continuous parameter target gates\n",
    "def Rx(theta):\n",
    "    return expm(-1j*theta/2 * X)\n",
    "def Ry(theta):\n",
    "    return expm(-1j*theta/2 * Y)\n",
    "def Rz(theta):\n",
    "    return expm(-1j*theta/2 * Z)\n",
    "def Phase(phi):\n",
    "    return np.array([[1,0],[0,exp(1j*phi/2)]],dtype = complex)\n",
    "target_gate = Rz(1.5)"
   ]
  },
  {
   "cell_type": "code",
   "execution_count": 3,
   "metadata": {},
   "outputs": [],
   "source": [
    "max_gates = 13\n",
    "'''\n",
    "0 = S\n",
    "1 = H\n",
    "2 = T\n",
    "3 = I\n",
    "'''\n",
    "\n",
    "# do the dumbest thing - enumerate all possibilities in a list \n",
    "\n",
    "comb_list = [''.join(x) for x in itertools.product('SHTI', repeat=max_gates)]"
   ]
  },
  {
   "cell_type": "code",
   "execution_count": null,
   "metadata": {},
   "outputs": [],
   "source": [
    "ops = []\n",
    "\n",
    "for i in range(len(comb_list)):\n",
    "    if comb_list[i][0]=='S':\n",
    "        ops.append(S)\n",
    "    elif comb_list[i][0]=='H':\n",
    "        ops.append(H)\n",
    "    elif comb_list[i][0]=='T':\n",
    "        ops.append(T)\n",
    "    elif comb_list[i][0]=='I':\n",
    "        ops.append(I)\n",
    "for i in range(len(comb_list)):\n",
    "    for j in range(1,max_gates):\n",
    "        if comb_list[i][j]=='S':\n",
    "            ops[i]= ops[i] @ S\n",
    "        elif comb_list[i][j]=='H':\n",
    "            ops[i]= ops[i] @ H\n",
    "        elif comb_list[i][j]=='T':\n",
    "            ops[i]= ops[i] @ T\n",
    "        elif comb_list[i][j]=='I':\n",
    "            ops[i]= ops[i] @ I\n",
    "\n",
    "least_distance = 1\n",
    "best_index=0\n",
    "def norm_distance(op1,op2):\n",
    "    return la.norm(op1-op2,2) \n",
    "for i in range(len(ops)):\n",
    "    if norm_distance(ops[i],target_gate) < least_distance:\n",
    "        least_distance = norm_distance(ops[i],target_gate)\n",
    "        best_index=i"
   ]
  },
  {
   "cell_type": "code",
   "execution_count": null,
   "metadata": {},
   "outputs": [],
   "source": [
    "print(1-least_distance)\n",
    "print(comb_list[best_index])"
   ]
  },
  {
   "cell_type": "code",
   "execution_count": null,
   "metadata": {},
   "outputs": [],
   "source": [
    "print('ideal gate')\n",
    "print(target_gate)\n",
    "print('approx gate')\n",
    "print(ops[best_index])"
   ]
  },
  {
   "cell_type": "code",
   "execution_count": null,
   "metadata": {},
   "outputs": [],
   "source": [
    "#Z rotation by theta = 1.5:\n",
    "#02: 0.26745494182790475 \n",
    "#08: 0.48140807883780456 \n",
    "#10: 0.9646036846969254  "
   ]
  },
  {
   "cell_type": "code",
   "execution_count": null,
   "metadata": {},
   "outputs": [],
   "source": [
    "\n",
    "#Phase gate phi = 1.5:\n",
    "#01: 0.9646036846969255\n",
    "#04: 0.9646036846969255\n",
    "#05: 0.9646036846969257\n",
    "#07: 0.9646036846969259\n",
    "#10: 0.964603684696926\n",
    "#13: 0.9646036846969265\n"
   ]
  }
 ],
 "metadata": {
  "kernelspec": {
   "display_name": "py36",
   "language": "python",
   "name": "py36"
  },
  "language_info": {
   "codemirror_mode": {
    "name": "ipython",
    "version": 3
   },
   "file_extension": ".py",
   "mimetype": "text/x-python",
   "name": "python",
   "nbconvert_exporter": "python",
   "pygments_lexer": "ipython3",
   "version": "3.6.9"
  }
 },
 "nbformat": 4,
 "nbformat_minor": 2
}
